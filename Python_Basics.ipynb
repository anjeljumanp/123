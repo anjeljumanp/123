{
  "nbformat": 4,
  "nbformat_minor": 0,
  "metadata": {
    "colab": {
      "provenance": []
    },
    "kernelspec": {
      "name": "python3",
      "display_name": "Python 3"
    },
    "language_info": {
      "name": "python"
    }
  },
  "cells": [
    {
      "cell_type": "markdown",
      "source": [
        "1. What is Python, and why is it popular?\n",
        "  - Python is a simple and powerful programming language that is easy to read and write, which makes it very beginner-friendly.\n",
        "  - It is popular because it can be used in many different areas such as web development, data science, artificial intelligence, automation, and even game development.\n",
        "  - Python has a huge collection of libraries and frameworks that make complex tasks easier, and it works on almost all operating systems.\n",
        "\n",
        "\n",
        "  2. What is an interpreter in Python?\n",
        "   - An interpreter in Python, is the program that understands and runs your Python code.\n",
        "   - When we write Python instructions, the interpreter reads them line by line and immediately shows the result.\n",
        "   - We  don’t need to compile Python code before running it.\n",
        "   - For example, if we type print(\"Hello\"), the interpreter quickly reads it and shows Hello on the screen. So, the interpreter is like a translator between us and the computer that makes your Python code work.\n",
        "\n",
        "  3. What are pre-defined keywords in Python?\n",
        "   - In Python, pre-defined keywords are special words that already have a fixed meaning and purpose in the language\n",
        "   - For example: if, else, while, for, def, class, True, False, import .\n",
        "\n",
        "  4. Can keywords be used as variable names?\n",
        "   - keywords in Python cannot be used as variable names because they are reserved words that have special meanings in the language.\n",
        "   - Keywords are used by Python to define the structure and rules of the code, such as if, while, for, class, and def.\n",
        "   - Python needs these words to understand the logic of the program, so it cannot assign as variables.\n",
        "\n",
        "  5. What is mutability in Python?\n",
        "   - Mutability means the objects or container whose state or value can be changed after they are created\n",
        "   - List is a type of mutable object.\n",
        "\n",
        "  6. Why are lists mutable, but tuples are immutable?\n",
        "   - Lists are mutable because Python allows to change, add, or remove elements inside them after they are created.\n",
        "   - Tuples are immutable, meaning once they are created, their contents cannot be changed\n",
        "\n",
        "  7. What is the difference between “==” and “is” operators in Python?\n",
        "   - Equality Operator (==): This operator compares the values of two objects. It checks if the content or state of the objects is the same.\n",
        "   - Identity Operator (is): This operator compares the identity of two objects. It checks if two variables refer to the exact same object in memory. This means they must point to the same memory address.\n",
        "\n",
        "  8. What are logical operators in Python?\n",
        "   - Logical operators are used to connect two or more conditions and return either True or False based on the result.\n",
        "   - There are three main logical operators: and, or, not.\n",
        "\n",
        "  9. What is type casting in Python?\n",
        "   - Type casting in Python, also known as type conversion, it is the process of converting a value from one data type to another data type using built-in functions.\n",
        "\n",
        "  10. What is the difference between implicit and explicit type casting?\n",
        "   - Implicit type casting is the system automatically converts the data type of a variable to another type without explicit instructions from the programmer.\n",
        "   - Explicit type casting the programmer explicitly instructs the system to convert a variable's data type using a cast operator or function.\n",
        "\n",
        "  11. What is the purpose of conditional statements in Python?\n",
        "   - The purpose of conditional statements in Python is to control the flow of execution in a program based on whether certain conditions are met.\n",
        "   - They enable programs to make decisions and perform different actions depending on the evaluation of a specific condition, which typically results in a True or False boolean value.\n",
        "   - Common conditional statements in Python include if, elif (else if), else, and nested if-else,\n",
        "\n",
        "  12. How does the elif statement work?\n",
        "   - The elif statement, short for \"else if,\" is a conditional control flow statement used in python.\n",
        "   - It allows for the evaluation of multiple conditions in a sequential manner after an initial if statement has been evaluated as false.\n",
        "\n",
        "  13. What is the difference between for and while loops?\n",
        "   - The primary difference between for and while loops lies in their structure and intended use.\n",
        "   - For loops are generally used when the number of iterations is known beforehand, offering a concise way to iterate over a sequence.\n",
        "   - While loops are ideal when the number of iterations is not predetermined and depends on a dynamic condition.\n",
        "\n",
        "   14. Describe a scenario where a while loop is more suitable than a for loop.\n",
        "    - A while loop is more suitable when the number of iterations is not known in advance but depends on a condition being met.\n",
        "    - For example, when entering an ATM PIN, the program should keep asking for the PIN until the correct one is entered. Since we don’t know how many attempts a user will take, a while loop is ideal, as it continues execution as long as the condition (wrong PIN) is true"
      ],
      "metadata": {
        "id": "e7oskiSUJnyN"
      }
    },
    {
      "cell_type": "markdown",
      "source": [
        "Practical Questions"
      ],
      "metadata": {
        "id": "3UzCaPcs25TD"
      }
    },
    {
      "cell_type": "markdown",
      "source": [
        "\n",
        "1. Write a Python program to print \"Hello, World!\""
      ],
      "metadata": {
        "id": "znhA6wc_2nwE"
      }
    },
    {
      "cell_type": "code",
      "source": [
        "print(\"Hello World!\")"
      ],
      "metadata": {
        "colab": {
          "base_uri": "https://localhost:8080/"
        },
        "id": "ZmE1hhFU2y2I",
        "outputId": "40556eae-3424-4096-9162-c12610a8de8b"
      },
      "execution_count": 1,
      "outputs": [
        {
          "output_type": "stream",
          "name": "stdout",
          "text": [
            "Hello World!\n"
          ]
        }
      ]
    },
    {
      "cell_type": "markdown",
      "source": [
        "2. Write a Python program that displays your name and age."
      ],
      "metadata": {
        "id": "L4aSgq8C3KlB"
      }
    },
    {
      "cell_type": "code",
      "source": [
        "name = \"Anjel Juman. P\"\n",
        "age = 25\n",
        "\n",
        "print(f\"My name is {name} and I am {age} years old.\")"
      ],
      "metadata": {
        "colab": {
          "base_uri": "https://localhost:8080/"
        },
        "id": "jgQzWTip3U0y",
        "outputId": "d287ea5b-ee4b-4412-9370-06d2c0b03327"
      },
      "execution_count": 5,
      "outputs": [
        {
          "output_type": "stream",
          "name": "stdout",
          "text": [
            "My name is Anjel Juman. P and I am 25 years old.\n"
          ]
        }
      ]
    },
    {
      "cell_type": "markdown",
      "source": [
        "3. Write code to print all the pre-defined keywords in Python using the keyword library."
      ],
      "metadata": {
        "id": "lh7nmqVF4tCU"
      }
    },
    {
      "cell_type": "code",
      "source": [
        "help ('keywords')"
      ],
      "metadata": {
        "colab": {
          "base_uri": "https://localhost:8080/"
        },
        "id": "W0S9DiZM5CR_",
        "outputId": "951b2159-ddd8-481c-96ae-5049d5be1708"
      },
      "execution_count": 11,
      "outputs": [
        {
          "output_type": "stream",
          "name": "stdout",
          "text": [
            "\n",
            "Here is a list of the Python keywords.  Enter any keyword to get more help.\n",
            "\n",
            "False               class               from                or\n",
            "None                continue            global              pass\n",
            "True                def                 if                  raise\n",
            "and                 del                 import              return\n",
            "as                  elif                in                  try\n",
            "assert              else                is                  while\n",
            "async               except              lambda              with\n",
            "await               finally             nonlocal            yield\n",
            "break               for                 not                 \n",
            "\n"
          ]
        }
      ]
    },
    {
      "cell_type": "markdown",
      "source": [
        "4. Write a program that checks if a given word is a Python keyword."
      ],
      "metadata": {
        "id": "FNmRxgdy6JQ-"
      }
    },
    {
      "cell_type": "code",
      "source": [
        "word = input(\"Enter a word: \")\n",
        "if keyword.iskeyword(word):\n",
        "    print(word, \"is a Python keyword.\")\n",
        "else:\n",
        "    print(word, \"is not a Python keyword.\")\n"
      ],
      "metadata": {
        "colab": {
          "base_uri": "https://localhost:8080/"
        },
        "id": "1tQpyNmq6Ntr",
        "outputId": "9fcd5ab9-0f91-4e65-efa9-375891e3db3f"
      },
      "execution_count": 16,
      "outputs": [
        {
          "output_type": "stream",
          "name": "stdout",
          "text": [
            "Enter a word: while\n",
            "while is a Python keyword.\n"
          ]
        }
      ]
    },
    {
      "cell_type": "markdown",
      "source": [
        "5. Create a list and tuple in Python, and demonstrate how attempting to change an element works differently for each."
      ],
      "metadata": {
        "id": "L8Naneiw6-aR"
      }
    },
    {
      "cell_type": "code",
      "source": [
        "my_list = [10, 20, 30]\n",
        "my_tuple = (10, 20, 30)\n",
        "my_list[1] = 200\n",
        "print(\"Updated list:\", my_list)\n",
        "try:\n",
        "    my_tuple[1] = 200\n",
        "except TypeError as e:\n",
        "    print(\"Error when modifying tuple:\", e)\n"
      ],
      "metadata": {
        "colab": {
          "base_uri": "https://localhost:8080/"
        },
        "id": "9V0EMJrh7M0z",
        "outputId": "e18724a6-0c8a-40b8-ccb1-6327cbc26443"
      },
      "execution_count": 19,
      "outputs": [
        {
          "output_type": "stream",
          "name": "stdout",
          "text": [
            "Updated list: [10, 200, 30]\n",
            "Error when modifying tuple: 'tuple' object does not support item assignment\n"
          ]
        }
      ]
    },
    {
      "cell_type": "markdown",
      "source": [
        "6. Write a function to demonstrate the behavior of mutable and immutable arguments."
      ],
      "metadata": {
        "id": "8lgEnVx3717L"
      }
    },
    {
      "cell_type": "code",
      "source": [
        "def change(num, my_list):\n",
        "    num += 5\n",
        "    my_list.append(5)\n",
        "x = 10\n",
        "y = [1, 2, 3]\n",
        "\n",
        "change(x, y)\n",
        "\n",
        "print(\"x after function call:\", x)\n",
        "print(\"y after function call:\", y)\n"
      ],
      "metadata": {
        "colab": {
          "base_uri": "https://localhost:8080/"
        },
        "id": "ZoqndyzZ74Oq",
        "outputId": "6e082abc-9fbc-4aab-a73b-b7c7f4352877"
      },
      "execution_count": 26,
      "outputs": [
        {
          "output_type": "stream",
          "name": "stdout",
          "text": [
            "x after function call: 10\n",
            "y after function call: [1, 2, 3, 5]\n"
          ]
        }
      ]
    },
    {
      "cell_type": "markdown",
      "source": [
        "7. Write a program that performs basic arithmetic operations on two user-input numbers."
      ],
      "metadata": {
        "id": "f87UzpsqAoKY"
      }
    },
    {
      "cell_type": "code",
      "source": [
        "a = float(input(\"Enter first number: \"))\n",
        "b = float(input(\"Enter second number: \"))\n",
        "\n",
        "print(\"Addition:\", a + b)\n",
        "print(\"Subtraction:\", a - b)\n",
        "print(\"Multiplication:\", a * b)\n",
        "print(\"Division:\", a / b)\n"
      ],
      "metadata": {
        "colab": {
          "base_uri": "https://localhost:8080/"
        },
        "id": "6_1fjNU0B9GW",
        "outputId": "16f297ed-ca6b-48f5-edb1-3f20c893a28b"
      },
      "execution_count": 27,
      "outputs": [
        {
          "output_type": "stream",
          "name": "stdout",
          "text": [
            "Enter first number: 12\n",
            "Enter second number: 10\n",
            "Addition: 22.0\n",
            "Subtraction: 2.0\n",
            "Multiplication: 120.0\n",
            "Division: 1.2\n"
          ]
        }
      ]
    },
    {
      "cell_type": "markdown",
      "source": [
        "8. Write a program to demonstrate the use of logical operators."
      ],
      "metadata": {
        "id": "raJJ-wBUCKHQ"
      }
    },
    {
      "cell_type": "code",
      "source": [
        "a = 10\n",
        "b = 5\n",
        "c = 20\n",
        "print(\"a =\", a, \", b =\", b, \", c =\", c)\n",
        "\n",
        "# AND operator\n",
        "print(\"(a > b) and (a < c):\", (a > b) and (a < c))\n",
        "\n",
        "# OR operator\n",
        "print(\"(a < b) or (a < c):\", (a < b) or (a < c))\n",
        "\n",
        "# NOT operator\n",
        "print(\"not (a > b):\", not (a > b))\n"
      ],
      "metadata": {
        "colab": {
          "base_uri": "https://localhost:8080/"
        },
        "id": "-XJhgIf5FZIP",
        "outputId": "1c18c12f-e71b-4ac3-9bb0-915209581ed5"
      },
      "execution_count": 32,
      "outputs": [
        {
          "output_type": "stream",
          "name": "stdout",
          "text": [
            "a = 10 , b = 5 , c = 20\n",
            "(a > b) and (a < c): True\n",
            "(a < b) or (a < c): True\n",
            "not (a > b): False\n"
          ]
        }
      ]
    },
    {
      "cell_type": "markdown",
      "source": [
        "9.  Write a Python program to convert user input from string to integer, float, and boolean types."
      ],
      "metadata": {
        "id": "vzFd7WvoGQdv"
      }
    },
    {
      "cell_type": "code",
      "source": [
        "value = input(\"Enter something: \")\n",
        "\n",
        "# Converting to integer\n",
        "try:\n",
        "    int_value = int(value)\n",
        "    print(\"As Integer:\", int_value)\n",
        "except ValueError:\n",
        "    print(\"Cannot convert to Integer\")\n",
        "\n",
        "# Converting to float\n",
        "try:\n",
        "    float_value = float(value)\n",
        "    print(\"As Float:\", float_value)\n",
        "except ValueError:\n",
        "    print(\"Cannot convert to Float\")\n",
        "\n",
        "# Converting to boolean\n",
        "bool_value = bool(value)\n",
        "print(\"As Boolean:\", bool_value)\n"
      ],
      "metadata": {
        "colab": {
          "base_uri": "https://localhost:8080/"
        },
        "id": "FBETr_pEGVMS",
        "outputId": "f69cda07-afe3-44c7-892d-c00c0759bb35"
      },
      "execution_count": 37,
      "outputs": [
        {
          "output_type": "stream",
          "name": "stdout",
          "text": [
            "Enter something: 123\n",
            "As Integer: 123\n",
            "As Float: 123.0\n",
            "As Boolean: True\n"
          ]
        }
      ]
    },
    {
      "cell_type": "markdown",
      "source": [
        "10. Write code to demonstrate type casting with list elements."
      ],
      "metadata": {
        "id": "2qSWBJ0MHPNe"
      }
    },
    {
      "cell_type": "code",
      "source": [
        "numbers = [\"1\", \"2\", \"3\"]\n",
        "print(\"Original list:\", numbers)\n",
        "\n",
        "# Convert to integers\n",
        "numbers_int = [int(x) for x in numbers]\n",
        "print(\"As integers:\", numbers_int)\n",
        "\n",
        "# Convert to floats\n",
        "numbers_float = [float(x) for x in numbers]\n",
        "print(\"As floats:\", numbers_float)\n"
      ],
      "metadata": {
        "colab": {
          "base_uri": "https://localhost:8080/"
        },
        "id": "DL4vfvNcHVpi",
        "outputId": "43e3f0b8-ca54-4ffd-fb32-7002a799b262"
      },
      "execution_count": 38,
      "outputs": [
        {
          "output_type": "stream",
          "name": "stdout",
          "text": [
            "Original list: ['1', '2', '3']\n",
            "As integers: [1, 2, 3]\n",
            "As floats: [1.0, 2.0, 3.0]\n"
          ]
        }
      ]
    },
    {
      "cell_type": "markdown",
      "source": [
        "11. Write a program that checks if a number is positive, negative, or zero."
      ],
      "metadata": {
        "id": "zbYxezvuHqzm"
      }
    },
    {
      "cell_type": "code",
      "source": [
        "num = float(input(\"Enter a number: \"))\n",
        "\n",
        "if num > 0:\n",
        "    print(\"The number is Positive.\")\n",
        "elif num < 0:\n",
        "    print(\"The number is Negative.\")\n",
        "else:\n",
        "    print(\"The number is Zero.\")"
      ],
      "metadata": {
        "colab": {
          "base_uri": "https://localhost:8080/"
        },
        "id": "dDvaVYKDHypV",
        "outputId": "0e066fba-762a-4556-d29a-88d76cac8391"
      },
      "execution_count": 39,
      "outputs": [
        {
          "output_type": "stream",
          "name": "stdout",
          "text": [
            "Enter a number: 12\n",
            "The number is Positive.\n"
          ]
        }
      ]
    },
    {
      "cell_type": "markdown",
      "source": [
        "12.  Write a for loop to print numbers from 1 to 10."
      ],
      "metadata": {
        "id": "DOKx0b_iIFVg"
      }
    },
    {
      "cell_type": "code",
      "source": [
        "for i in range(1, 11):\n",
        "    print(i)"
      ],
      "metadata": {
        "colab": {
          "base_uri": "https://localhost:8080/"
        },
        "id": "Z9QUotsCJuZu",
        "outputId": "92ae74c7-54fa-47ce-9b82-b801f0e7e5e7"
      },
      "execution_count": 40,
      "outputs": [
        {
          "output_type": "stream",
          "name": "stdout",
          "text": [
            "1\n",
            "2\n",
            "3\n",
            "4\n",
            "5\n",
            "6\n",
            "7\n",
            "8\n",
            "9\n",
            "10\n"
          ]
        }
      ]
    },
    {
      "cell_type": "markdown",
      "source": [
        "13. Write a Python program to find the sum of all even numbers between 1 and 50."
      ],
      "metadata": {
        "id": "EJC4aSTwJ3Z-"
      }
    },
    {
      "cell_type": "code",
      "source": [
        "total = 0\n",
        "for i in range(1, 51):\n",
        "    if i % 2 == 0:\n",
        "        total += i\n",
        "\n",
        "print(\"Sum of even numbers from 1 to 50 is:\", total)"
      ],
      "metadata": {
        "colab": {
          "base_uri": "https://localhost:8080/"
        },
        "id": "F7wL9d93J-95",
        "outputId": "46e8671a-ba6f-49e4-ecf1-5f814f409aa5"
      },
      "execution_count": 43,
      "outputs": [
        {
          "output_type": "stream",
          "name": "stdout",
          "text": [
            "Sum of even numbers from 1 to 50 is: 650\n"
          ]
        }
      ]
    },
    {
      "cell_type": "markdown",
      "source": [
        "14. Write a program to reverse a string using a while loop."
      ],
      "metadata": {
        "id": "RVWJhLReK0kK"
      }
    },
    {
      "cell_type": "code",
      "source": [
        "text = input(\"Enter a string: \")\n",
        "reversed_text = \"\"\n",
        "i = len(text) - 1\n",
        "while i >= 0:\n",
        "    reversed_text += text[i]\n",
        "    i -= 1\n",
        "print(\"Reversed string:\", reversed_text)"
      ],
      "metadata": {
        "colab": {
          "base_uri": "https://localhost:8080/"
        },
        "id": "UCg_gsoGLBME",
        "outputId": "b3bd68a0-608b-4ce5-d4e4-9110c068adf7"
      },
      "execution_count": 44,
      "outputs": [
        {
          "output_type": "stream",
          "name": "stdout",
          "text": [
            "Enter a string: ANJEL\n",
            "Reversed string: LEJNA\n"
          ]
        }
      ]
    },
    {
      "cell_type": "markdown",
      "source": [
        "15.  Write a Python program to calculate the factorial of a number provided by the user using a while loop."
      ],
      "metadata": {
        "id": "fFNktchsLKc5"
      }
    },
    {
      "cell_type": "code",
      "source": [
        "num = int(input(\"Enter a number: \"))\n",
        "factorial = 1\n",
        "i = 1\n",
        "while i <= num:\n",
        "    factorial *= i\n",
        "    i += 1\n",
        "print(\"Factorial of\", num, \"is:\", factorial)"
      ],
      "metadata": {
        "colab": {
          "base_uri": "https://localhost:8080/"
        },
        "id": "-HFDf46CLU4d",
        "outputId": "dd60a7b0-8d6e-483b-980f-0bff68911458"
      },
      "execution_count": 45,
      "outputs": [
        {
          "output_type": "stream",
          "name": "stdout",
          "text": [
            "Enter a number: 12\n",
            "Factorial of 12 is: 479001600\n"
          ]
        }
      ]
    }
  ]
}